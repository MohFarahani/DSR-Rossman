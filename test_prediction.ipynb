{
 "cells": [
  {
   "cell_type": "code",
   "execution_count": 4,
   "id": "49e9a8fd",
   "metadata": {},
   "outputs": [],
   "source": [
    "from train_class import Rossman"
   ]
  },
  {
   "cell_type": "code",
   "execution_count": 5,
   "id": "63e90880-dc06-4173-9095-ce2810df05a0",
   "metadata": {},
   "outputs": [],
   "source": [
    "PATH_TEST = \"data/holdout.csv\"\n",
    "PATH_STORE_MODIFIED = \"data/store_modified.csv\"\n"
   ]
  },
  {
   "cell_type": "code",
   "execution_count": 6,
   "id": "c5b22c40",
   "metadata": {},
   "outputs": [
    {
     "name": "stdout",
     "output_type": "stream",
     "text": [
      "Read test & store data\n",
      "Clean test data & fill nulls\n"
     ]
    },
    {
     "name": "stderr",
     "output_type": "stream",
     "text": [
      "c:\\users\\tomek\\anaconda3\\envs\\dsr-setup\\lib\\site-packages\\pandas\\core\\indexing.py:1763: SettingWithCopyWarning: \n",
      "A value is trying to be set on a copy of a slice from a DataFrame.\n",
      "Try using .loc[row_indexer,col_indexer] = value instead\n",
      "\n",
      "See the caveats in the documentation: https://pandas.pydata.org/pandas-docs/stable/user_guide/indexing.html#returning-a-view-versus-a-copy\n",
      "  isetter(loc, value)\n",
      "c:\\users\\tomek\\anaconda3\\envs\\dsr-setup\\lib\\site-packages\\pandas\\core\\series.py:4536: SettingWithCopyWarning: \n",
      "A value is trying to be set on a copy of a slice from a DataFrame\n",
      "\n",
      "See the caveats in the documentation: https://pandas.pydata.org/pandas-docs/stable/user_guide/indexing.html#returning-a-view-versus-a-copy\n",
      "  downcast=downcast,\n"
     ]
    },
    {
     "name": "stdout",
     "output_type": "stream",
     "text": [
      "Merge train & store\n"
     ]
    },
    {
     "name": "stderr",
     "output_type": "stream",
     "text": [
      "C:\\dscourse\\git\\DSR-Rossman\\train_class.py:122: FutureWarning: Series.dt.weekofyear and Series.dt.week have been deprecated.  Please use Series.dt.isocalendar().week instead.\n",
      "  (train_full.loc[:,'Date'].dt.weekofyear - train_full.Promo2SinceWeek)/ 4.0\n",
      "C:\\dscourse\\git\\DSR-Rossman\\train_class.py:124: FutureWarning: Series.dt.weekofyear and Series.dt.week have been deprecated.  Please use Series.dt.isocalendar().week instead.\n",
      "  train_full['WeekOfYear'] = train_full.loc[:,'Date'].dt.weekofyear\n"
     ]
    },
    {
     "name": "stdout",
     "output_type": "stream",
     "text": [
      "Add features\n",
      "Key: OneHot Value:['StoreType', 'Assortment', 'PromoInterval', 'StateHoliday']\n",
      "Key: Freq Value:['Store']\n",
      "Add encoding\n",
      "Index(['Date', 'Store', 'DayOfWeek', 'Sales', 'Customers', 'Open', 'Promo',\n",
      "       'SchoolHoliday', 'CompetitionDistance', 'CompetitionOpenSinceMonth',\n",
      "       'CompetitionOpenSinceYear', 'Promo2', 'Promo2SinceWeek',\n",
      "       'Promo2SinceYear', 'CustomerPerDay', 'CompetitionOpen', 'PromoOpen',\n",
      "       'WeekOfYear', 'StoreType_a', 'StoreType_b', 'StoreType_c',\n",
      "       'StoreType_d', 'Assortment_a', 'Assortment_b', 'Assortment_c',\n",
      "       'PromoInterval_Feb,May,Aug,Nov', 'PromoInterval_Jan,Apr,Jul,Oct',\n",
      "       'PromoInterval_Mar,Jun,Sept,Dec', 'StateHoliday_0', 'StateHoliday_a',\n",
      "       'StateHoliday_b', 'StateHoliday_c', 'Store_freq'],\n",
      "      dtype='object')\n",
      "[14:35:11] WARNING: C:/Users/Administrator/workspace/xgboost-win64_release_1.4.0/src/objective/regression_obj.cu:171: reg:linear is now deprecated in favor of reg:squarederror.\n"
     ]
    },
    {
     "name": "stderr",
     "output_type": "stream",
     "text": [
      "c:\\users\\tomek\\anaconda3\\envs\\dsr-setup\\lib\\site-packages\\xgboost\\sklearn.py:567: UserWarning: Loading a native XGBoost model with Scikit-Learn interface.\n",
      "  'Loading a native XGBoost model with Scikit-Learn interface.')\n"
     ]
    },
    {
     "name": "stdout",
     "output_type": "stream",
     "text": [
      "Running predictions\n",
      "[6454.8457 6016.9575 9496.972  ... 7912.052  7863.1963 8221.192 ]\n",
      "0          7195\n",
      "1          6529\n",
      "2         10474\n",
      "3          9174\n",
      "4          7132\n",
      "          ...  \n",
      "315535    10027\n",
      "315536     9000\n",
      "315537     8874\n",
      "315538     8435\n",
      "315539     8663\n",
      "Name: Sales, Length: 315540, dtype: int64\n",
      "RMSPE:  10.613762080433554\n"
     ]
    }
   ],
   "source": [
    "rossman = Rossman()\n",
    "rossman.testing(PATH_TEST)"
   ]
  },
  {
   "cell_type": "code",
   "execution_count": null,
   "id": "acb2cbb2",
   "metadata": {},
   "outputs": [],
   "source": []
  }
 ],
 "metadata": {
  "kernelspec": {
   "display_name": "Python 3",
   "language": "python",
   "name": "python3"
  },
  "language_info": {
   "codemirror_mode": {
    "name": "ipython",
    "version": 3
   },
   "file_extension": ".py",
   "mimetype": "text/x-python",
   "name": "python",
   "nbconvert_exporter": "python",
   "pygments_lexer": "ipython3",
   "version": "3.6.13"
  }
 },
 "nbformat": 4,
 "nbformat_minor": 5
}

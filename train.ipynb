{
 "cells": [
  {
   "cell_type": "markdown",
   "id": "38f586c2",
   "metadata": {},
   "source": [
    "# predicting Rossman sale\n"
   ]
  },
  {
   "cell_type": "code",
   "execution_count": 1,
   "id": "337385c2",
   "metadata": {},
   "outputs": [],
   "source": [
    "import pandas as pd\n",
    "import numpy as np\n",
    "from sklearn.model_selection import train_test_split\n",
    "from sklearn.preprocessing import OneHotEncoder"
   ]
  },
  {
   "cell_type": "code",
   "execution_count": 2,
   "id": "362eaf1b",
   "metadata": {},
   "outputs": [
    {
     "name": "stderr",
     "output_type": "stream",
     "text": [
      "C:\\Users\\mhnaj\\anaconda3\\lib\\site-packages\\IPython\\core\\interactiveshell.py:3166: DtypeWarning: Columns (7) have mixed types.Specify dtype option on import or set low_memory=False.\n",
      "  interactivity=interactivity, compiler=compiler, result=result)\n"
     ]
    }
   ],
   "source": [
    "train = pd.read_csv(\"data/train.csv\")\n",
    "store = pd.read_csv(\"data/store.csv\") "
   ]
  },
  {
   "cell_type": "markdown",
   "id": "5b12923e",
   "metadata": {},
   "source": [
    "### Data exploration"
   ]
  },
  {
   "cell_type": "code",
   "execution_count": 3,
   "id": "d17dda38",
   "metadata": {
    "scrolled": true
   },
   "outputs": [
    {
     "name": "stdout",
     "output_type": "stream",
     "text": [
      "<class 'pandas.core.frame.DataFrame'>\n",
      "RangeIndex: 637774 entries, 0 to 637773\n",
      "Data columns (total 9 columns):\n",
      " #   Column         Non-Null Count   Dtype  \n",
      "---  ------         --------------   -----  \n",
      " 0   Date           637774 non-null  object \n",
      " 1   Store          618473 non-null  float64\n",
      " 2   DayOfWeek      618757 non-null  float64\n",
      " 3   Sales          618747 non-null  float64\n",
      " 4   Customers      618683 non-null  float64\n",
      " 5   Open           618588 non-null  float64\n",
      " 6   Promo          618580 non-null  float64\n",
      " 7   StateHoliday   618520 non-null  object \n",
      " 8   SchoolHoliday  618437 non-null  float64\n",
      "dtypes: float64(7), object(2)\n",
      "memory usage: 43.8+ MB\n"
     ]
    }
   ],
   "source": [
    "train.info()"
   ]
  },
  {
   "cell_type": "code",
   "execution_count": 4,
   "id": "e547518f",
   "metadata": {
    "scrolled": true
   },
   "outputs": [
    {
     "name": "stdout",
     "output_type": "stream",
     "text": [
      "<class 'pandas.core.frame.DataFrame'>\n",
      "RangeIndex: 1115 entries, 0 to 1114\n",
      "Data columns (total 10 columns):\n",
      " #   Column                     Non-Null Count  Dtype  \n",
      "---  ------                     --------------  -----  \n",
      " 0   Store                      1115 non-null   int64  \n",
      " 1   StoreType                  1115 non-null   object \n",
      " 2   Assortment                 1115 non-null   object \n",
      " 3   CompetitionDistance        1112 non-null   float64\n",
      " 4   CompetitionOpenSinceMonth  761 non-null    float64\n",
      " 5   CompetitionOpenSinceYear   761 non-null    float64\n",
      " 6   Promo2                     1115 non-null   int64  \n",
      " 7   Promo2SinceWeek            571 non-null    float64\n",
      " 8   Promo2SinceYear            571 non-null    float64\n",
      " 9   PromoInterval              571 non-null    object \n",
      "dtypes: float64(5), int64(2), object(3)\n",
      "memory usage: 87.2+ KB\n"
     ]
    }
   ],
   "source": [
    "store.info()"
   ]
  },
  {
   "cell_type": "markdown",
   "id": "f323e08d",
   "metadata": {},
   "source": [
    "### Missing value in Store.csv"
   ]
  },
  {
   "cell_type": "code",
   "execution_count": 5,
   "id": "d5753468",
   "metadata": {
    "scrolled": true
   },
   "outputs": [
    {
     "name": "stdout",
     "output_type": "stream",
     "text": [
      "<class 'pandas.core.frame.DataFrame'>\n",
      "RangeIndex: 1115 entries, 0 to 1114\n",
      "Data columns (total 10 columns):\n",
      " #   Column                     Non-Null Count  Dtype  \n",
      "---  ------                     --------------  -----  \n",
      " 0   Store                      1115 non-null   int64  \n",
      " 1   StoreType                  1115 non-null   object \n",
      " 2   Assortment                 1115 non-null   object \n",
      " 3   CompetitionDistance        1115 non-null   float64\n",
      " 4   CompetitionOpenSinceMonth  1115 non-null   float64\n",
      " 5   CompetitionOpenSinceYear   1115 non-null   float64\n",
      " 6   Promo2                     1115 non-null   int64  \n",
      " 7   Promo2SinceWeek            1115 non-null   float64\n",
      " 8   Promo2SinceYear            1115 non-null   float64\n",
      " 9   PromoInterval              1115 non-null   object \n",
      "dtypes: float64(5), int64(2), object(3)\n",
      "memory usage: 87.2+ KB\n"
     ]
    }
   ],
   "source": [
    "CompMonth_mean = int(store['CompetitionOpenSinceMonth'].mean())\n",
    "CompYear_mean = int(store['CompetitionOpenSinceYear'].mean())\n",
    "CompDist_mean = int(store['CompetitionDistance'].mean())\n",
    "Prom2Week_mean = int(store['Promo2SinceWeek'].mean())\n",
    "Prom2Year_mean = int(store['Promo2SinceYear'].mean())\n",
    "PromInterval_most = store['PromoInterval'].value_counts()[0]\n",
    "\n",
    "store.loc[:,'CompetitionOpenSinceMonth'].fillna(value=CompMonth_mean,inplace=True)\n",
    "store.loc[:,'CompetitionOpenSinceYear'].fillna(value=CompYear_mean,inplace=True)\n",
    "store.loc[:,'CompetitionDistance'].fillna(value=CompYear_mean,inplace=True)\n",
    "store.loc[:,'Promo2SinceWeek'].fillna(value=Prom2Week_mean,inplace=True)\n",
    "store.loc[:,'Promo2SinceYear'].fillna(value=Prom2Year_mean,inplace=True)\n",
    "store.loc[:,'PromoInterval'].fillna(value=PromInterval_most,inplace=True)\n",
    "\n",
    "store.info()"
   ]
  },
  {
   "cell_type": "markdown",
   "id": "3a3b6759",
   "metadata": {},
   "source": [
    "Drop rows that has no sales (zero or null value)"
   ]
  },
  {
   "cell_type": "code",
   "execution_count": 6,
   "id": "ed5ff8f1",
   "metadata": {},
   "outputs": [],
   "source": [
    "train.dropna(subset=['Sales'],inplace=True)\n",
    "train.drop(columns=['Customers'],inplace=True)\n",
    "train.dropna(subset=['Store'],inplace=True) \n",
    "\n",
    "train= train[train['Sales']>0]"
   ]
  },
  {
   "cell_type": "markdown",
   "id": "16057212",
   "metadata": {},
   "source": [
    "### Missing value in train.csv\n"
   ]
  },
  {
   "cell_type": "code",
   "execution_count": 7,
   "id": "05a58c6d",
   "metadata": {},
   "outputs": [
    {
     "name": "stdout",
     "output_type": "stream",
     "text": [
      "<class 'pandas.core.frame.DataFrame'>\n",
      "Int64Index: 497376 entries, 27 to 637773\n",
      "Data columns (total 8 columns):\n",
      " #   Column         Non-Null Count   Dtype  \n",
      "---  ------         --------------   -----  \n",
      " 0   Date           497376 non-null  object \n",
      " 1   Store          497376 non-null  float64\n",
      " 2   DayOfWeek      497376 non-null  float64\n",
      " 3   Sales          497376 non-null  float64\n",
      " 4   Open           482366 non-null  float64\n",
      " 5   Promo          497376 non-null  float64\n",
      " 6   StateHoliday   497376 non-null  object \n",
      " 7   SchoolHoliday  497376 non-null  float64\n",
      "dtypes: float64(6), object(2)\n",
      "memory usage: 34.2+ MB\n"
     ]
    }
   ],
   "source": [
    "Day_mean = int(train['DayOfWeek'].mean())\n",
    "Promo = train['Promo'].value_counts()[0]\n",
    "SchHoli_mode= train['SchoolHoliday'].value_counts()[0]\n",
    "StatHoli_mode = train['StateHoliday'].value_counts()[0]\n",
    "\n",
    "\n",
    "train.loc[:,'DayOfWeek'].fillna(value=Day_mean,inplace=True)\n",
    "train.loc[:,'Promo'].fillna(value=Promo,inplace=True)\n",
    "train.loc[:,'SchoolHoliday'].fillna(value=SchHoli_mode,inplace=True)\n",
    "train.loc[:,'StateHoliday'].fillna(value=StatHoli_mode,inplace=True)\n",
    "\n",
    "train.info()"
   ]
  },
  {
   "cell_type": "markdown",
   "id": "c1714cc6",
   "metadata": {},
   "source": [
    "Merge 'train' and 'store' together"
   ]
  },
  {
   "cell_type": "code",
   "execution_count": 8,
   "id": "8a8cd10c",
   "metadata": {},
   "outputs": [],
   "source": [
    "train_full = pd.merge(train,store, on='Store', how='inner')"
   ]
  },
  {
   "cell_type": "code",
   "execution_count": 9,
   "id": "3c6b8ca5",
   "metadata": {
    "scrolled": false
   },
   "outputs": [
    {
     "name": "stdout",
     "output_type": "stream",
     "text": [
      "<class 'pandas.core.frame.DataFrame'>\n",
      "Int64Index: 497376 entries, 0 to 497375\n",
      "Data columns (total 17 columns):\n",
      " #   Column                     Non-Null Count   Dtype  \n",
      "---  ------                     --------------   -----  \n",
      " 0   Date                       497376 non-null  object \n",
      " 1   Store                      497376 non-null  float64\n",
      " 2   DayOfWeek                  497376 non-null  float64\n",
      " 3   Sales                      497376 non-null  float64\n",
      " 4   Open                       482366 non-null  float64\n",
      " 5   Promo                      497376 non-null  float64\n",
      " 6   StateHoliday               497376 non-null  object \n",
      " 7   SchoolHoliday              497376 non-null  float64\n",
      " 8   StoreType                  497376 non-null  object \n",
      " 9   Assortment                 497376 non-null  object \n",
      " 10  CompetitionDistance        497376 non-null  float64\n",
      " 11  CompetitionOpenSinceMonth  497376 non-null  float64\n",
      " 12  CompetitionOpenSinceYear   497376 non-null  float64\n",
      " 13  Promo2                     497376 non-null  int64  \n",
      " 14  Promo2SinceWeek            497376 non-null  float64\n",
      " 15  Promo2SinceYear            497376 non-null  float64\n",
      " 16  PromoInterval              497376 non-null  object \n",
      "dtypes: float64(11), int64(1), object(5)\n",
      "memory usage: 68.3+ MB\n"
     ]
    }
   ],
   "source": [
    "train_full.info()"
   ]
  },
  {
   "cell_type": "markdown",
   "id": "45344726",
   "metadata": {},
   "source": [
    "### Data Cleaning\n"
   ]
  },
  {
   "cell_type": "code",
   "execution_count": 10,
   "id": "2dae9f23",
   "metadata": {
    "scrolled": true
   },
   "outputs": [
    {
     "data": {
      "text/plain": [
       "1.0    482366\n",
       "Name: Open, dtype: int64"
      ]
     },
     "execution_count": 10,
     "metadata": {},
     "output_type": "execute_result"
    }
   ],
   "source": [
    "train_full['Open'].value_counts()"
   ]
  },
  {
   "cell_type": "code",
   "execution_count": 11,
   "id": "352f4cde",
   "metadata": {},
   "outputs": [],
   "source": [
    "train_full.drop(columns=['Open'],inplace=True)"
   ]
  },
  {
   "cell_type": "code",
   "execution_count": 12,
   "id": "30200d69",
   "metadata": {
    "scrolled": true
   },
   "outputs": [
    {
     "data": {
      "text/plain": [
       "0        430730\n",
       "0.0       51088\n",
       "51088     15031\n",
       "a           401\n",
       "b            91\n",
       "c            35\n",
       "Name: StateHoliday, dtype: int64"
      ]
     },
     "execution_count": 12,
     "metadata": {},
     "output_type": "execute_result"
    }
   ],
   "source": [
    "train_full['StateHoliday'].value_counts()"
   ]
  },
  {
   "cell_type": "code",
   "execution_count": 13,
   "id": "169b75ea",
   "metadata": {},
   "outputs": [
    {
     "data": {
      "text/plain": [
       "0        481818\n",
       "51088     15031\n",
       "a           401\n",
       "b            91\n",
       "c            35\n",
       "Name: StateHoliday, dtype: int64"
      ]
     },
     "execution_count": 13,
     "metadata": {},
     "output_type": "execute_result"
    }
   ],
   "source": [
    "train_full.loc[train_full['StateHoliday']==0,'StateHoliday']=0\n",
    "train_full.loc[train_full['StateHoliday']=='0','StateHoliday']=0\n",
    "\n",
    "train_full['StateHoliday'].value_counts()"
   ]
  },
  {
   "cell_type": "code",
   "execution_count": 14,
   "id": "74496fec",
   "metadata": {},
   "outputs": [
    {
     "data": {
      "text/plain": [
       "Store                        0.010161\n",
       "DayOfWeek                   -0.172114\n",
       "Sales                        1.000000\n",
       "Promo                       -0.000459\n",
       "SchoolHoliday               -0.002114\n",
       "CompetitionDistance         -0.039900\n",
       "CompetitionOpenSinceMonth   -0.035089\n",
       "CompetitionOpenSinceYear     0.015061\n",
       "Promo2                      -0.129436\n",
       "Promo2SinceWeek              0.057762\n",
       "Promo2SinceYear             -0.060837\n",
       "Name: Sales, dtype: float64"
      ]
     },
     "execution_count": 14,
     "metadata": {},
     "output_type": "execute_result"
    }
   ],
   "source": [
    "train_full.corr()['Sales']"
   ]
  },
  {
   "cell_type": "markdown",
   "id": "34ac9b9f",
   "metadata": {},
   "source": [
    "### Dealing with categorical data"
   ]
  },
  {
   "cell_type": "code",
   "execution_count": 15,
   "id": "71e04d8b",
   "metadata": {},
   "outputs": [],
   "source": [
    "train_full = pd.get_dummies(train_full, columns = ['StateHoliday'])\n",
    "train_full = pd.get_dummies(train_full, columns = ['StoreType'])\n",
    "train_full = pd.get_dummies(train_full, columns = ['Assortment'])"
   ]
  },
  {
   "cell_type": "code",
   "execution_count": 16,
   "id": "08b69f11",
   "metadata": {},
   "outputs": [
    {
     "data": {
      "text/html": [
       "<div>\n",
       "<style scoped>\n",
       "    .dataframe tbody tr th:only-of-type {\n",
       "        vertical-align: middle;\n",
       "    }\n",
       "\n",
       "    .dataframe tbody tr th {\n",
       "        vertical-align: top;\n",
       "    }\n",
       "\n",
       "    .dataframe thead th {\n",
       "        text-align: right;\n",
       "    }\n",
       "</style>\n",
       "<table border=\"1\" class=\"dataframe\">\n",
       "  <thead>\n",
       "    <tr style=\"text-align: right;\">\n",
       "      <th></th>\n",
       "      <th>Date</th>\n",
       "      <th>Store</th>\n",
       "      <th>DayOfWeek</th>\n",
       "      <th>Sales</th>\n",
       "      <th>Promo</th>\n",
       "      <th>SchoolHoliday</th>\n",
       "      <th>CompetitionDistance</th>\n",
       "      <th>CompetitionOpenSinceMonth</th>\n",
       "      <th>CompetitionOpenSinceYear</th>\n",
       "      <th>Promo2</th>\n",
       "      <th>...</th>\n",
       "      <th>StateHoliday_a</th>\n",
       "      <th>StateHoliday_b</th>\n",
       "      <th>StateHoliday_c</th>\n",
       "      <th>StoreType_a</th>\n",
       "      <th>StoreType_b</th>\n",
       "      <th>StoreType_c</th>\n",
       "      <th>StoreType_d</th>\n",
       "      <th>Assortment_a</th>\n",
       "      <th>Assortment_b</th>\n",
       "      <th>Assortment_c</th>\n",
       "    </tr>\n",
       "  </thead>\n",
       "  <tbody>\n",
       "    <tr>\n",
       "      <th>0</th>\n",
       "      <td>2013-01-01</td>\n",
       "      <td>353.0</td>\n",
       "      <td>2.0</td>\n",
       "      <td>3139.0</td>\n",
       "      <td>0.0</td>\n",
       "      <td>1.0</td>\n",
       "      <td>900.0</td>\n",
       "      <td>7.0</td>\n",
       "      <td>2008.0</td>\n",
       "      <td>1</td>\n",
       "      <td>...</td>\n",
       "      <td>1</td>\n",
       "      <td>0</td>\n",
       "      <td>0</td>\n",
       "      <td>0</td>\n",
       "      <td>1</td>\n",
       "      <td>0</td>\n",
       "      <td>0</td>\n",
       "      <td>0</td>\n",
       "      <td>1</td>\n",
       "      <td>0</td>\n",
       "    </tr>\n",
       "    <tr>\n",
       "      <th>1</th>\n",
       "      <td>2013-01-02</td>\n",
       "      <td>353.0</td>\n",
       "      <td>3.0</td>\n",
       "      <td>2686.0</td>\n",
       "      <td>0.0</td>\n",
       "      <td>1.0</td>\n",
       "      <td>900.0</td>\n",
       "      <td>7.0</td>\n",
       "      <td>2008.0</td>\n",
       "      <td>1</td>\n",
       "      <td>...</td>\n",
       "      <td>0</td>\n",
       "      <td>0</td>\n",
       "      <td>0</td>\n",
       "      <td>0</td>\n",
       "      <td>1</td>\n",
       "      <td>0</td>\n",
       "      <td>0</td>\n",
       "      <td>0</td>\n",
       "      <td>1</td>\n",
       "      <td>0</td>\n",
       "    </tr>\n",
       "    <tr>\n",
       "      <th>2</th>\n",
       "      <td>2013-01-03</td>\n",
       "      <td>353.0</td>\n",
       "      <td>4.0</td>\n",
       "      <td>2628.0</td>\n",
       "      <td>0.0</td>\n",
       "      <td>1.0</td>\n",
       "      <td>900.0</td>\n",
       "      <td>7.0</td>\n",
       "      <td>2008.0</td>\n",
       "      <td>1</td>\n",
       "      <td>...</td>\n",
       "      <td>0</td>\n",
       "      <td>0</td>\n",
       "      <td>0</td>\n",
       "      <td>0</td>\n",
       "      <td>1</td>\n",
       "      <td>0</td>\n",
       "      <td>0</td>\n",
       "      <td>0</td>\n",
       "      <td>1</td>\n",
       "      <td>0</td>\n",
       "    </tr>\n",
       "    <tr>\n",
       "      <th>3</th>\n",
       "      <td>2013-01-04</td>\n",
       "      <td>353.0</td>\n",
       "      <td>5.0</td>\n",
       "      <td>2677.0</td>\n",
       "      <td>0.0</td>\n",
       "      <td>1.0</td>\n",
       "      <td>900.0</td>\n",
       "      <td>7.0</td>\n",
       "      <td>2008.0</td>\n",
       "      <td>1</td>\n",
       "      <td>...</td>\n",
       "      <td>0</td>\n",
       "      <td>0</td>\n",
       "      <td>0</td>\n",
       "      <td>0</td>\n",
       "      <td>1</td>\n",
       "      <td>0</td>\n",
       "      <td>0</td>\n",
       "      <td>0</td>\n",
       "      <td>1</td>\n",
       "      <td>0</td>\n",
       "    </tr>\n",
       "    <tr>\n",
       "      <th>4</th>\n",
       "      <td>2013-01-05</td>\n",
       "      <td>353.0</td>\n",
       "      <td>6.0</td>\n",
       "      <td>2224.0</td>\n",
       "      <td>0.0</td>\n",
       "      <td>0.0</td>\n",
       "      <td>900.0</td>\n",
       "      <td>7.0</td>\n",
       "      <td>2008.0</td>\n",
       "      <td>1</td>\n",
       "      <td>...</td>\n",
       "      <td>0</td>\n",
       "      <td>0</td>\n",
       "      <td>0</td>\n",
       "      <td>0</td>\n",
       "      <td>1</td>\n",
       "      <td>0</td>\n",
       "      <td>0</td>\n",
       "      <td>0</td>\n",
       "      <td>1</td>\n",
       "      <td>0</td>\n",
       "    </tr>\n",
       "  </tbody>\n",
       "</table>\n",
       "<p>5 rows × 25 columns</p>\n",
       "</div>"
      ],
      "text/plain": [
       "         Date  Store  DayOfWeek   Sales  Promo  SchoolHoliday  \\\n",
       "0  2013-01-01  353.0        2.0  3139.0    0.0            1.0   \n",
       "1  2013-01-02  353.0        3.0  2686.0    0.0            1.0   \n",
       "2  2013-01-03  353.0        4.0  2628.0    0.0            1.0   \n",
       "3  2013-01-04  353.0        5.0  2677.0    0.0            1.0   \n",
       "4  2013-01-05  353.0        6.0  2224.0    0.0            0.0   \n",
       "\n",
       "   CompetitionDistance  CompetitionOpenSinceMonth  CompetitionOpenSinceYear  \\\n",
       "0                900.0                        7.0                    2008.0   \n",
       "1                900.0                        7.0                    2008.0   \n",
       "2                900.0                        7.0                    2008.0   \n",
       "3                900.0                        7.0                    2008.0   \n",
       "4                900.0                        7.0                    2008.0   \n",
       "\n",
       "   Promo2  ...  StateHoliday_a  StateHoliday_b StateHoliday_c  StoreType_a  \\\n",
       "0       1  ...               1               0              0            0   \n",
       "1       1  ...               0               0              0            0   \n",
       "2       1  ...               0               0              0            0   \n",
       "3       1  ...               0               0              0            0   \n",
       "4       1  ...               0               0              0            0   \n",
       "\n",
       "   StoreType_b  StoreType_c  StoreType_d  Assortment_a  Assortment_b  \\\n",
       "0            1            0            0             0             1   \n",
       "1            1            0            0             0             1   \n",
       "2            1            0            0             0             1   \n",
       "3            1            0            0             0             1   \n",
       "4            1            0            0             0             1   \n",
       "\n",
       "   Assortment_c  \n",
       "0             0  \n",
       "1             0  \n",
       "2             0  \n",
       "3             0  \n",
       "4             0  \n",
       "\n",
       "[5 rows x 25 columns]"
      ]
     },
     "execution_count": 16,
     "metadata": {},
     "output_type": "execute_result"
    }
   ],
   "source": [
    "train_full.head()"
   ]
  },
  {
   "cell_type": "markdown",
   "id": "1ad1f59c",
   "metadata": {},
   "source": [
    "### Split Data: Train and Test"
   ]
  },
  {
   "cell_type": "code",
   "execution_count": 17,
   "id": "a601314f",
   "metadata": {},
   "outputs": [],
   "source": [
    "X = train_full.drop(columns=['Sales','Date'])\n",
    "y = train_full['Sales']"
   ]
  },
  {
   "cell_type": "code",
   "execution_count": 18,
   "id": "ae123f84",
   "metadata": {},
   "outputs": [],
   "source": [
    "X_train, X_test, y_train, y_test = train_test_split(\n",
    "                                                    X, y, test_size=0.33)"
   ]
  },
  {
   "cell_type": "markdown",
   "id": "dd13b57e",
   "metadata": {},
   "source": [
    "#### Missing Values"
   ]
  },
  {
   "cell_type": "code",
   "execution_count": 19,
   "id": "37f56161",
   "metadata": {},
   "outputs": [
    {
     "name": "stdout",
     "output_type": "stream",
     "text": [
      "<class 'pandas.core.frame.DataFrame'>\n",
      "Int64Index: 333241 entries, 146244 to 216809\n",
      "Data columns (total 23 columns):\n",
      " #   Column                     Non-Null Count   Dtype  \n",
      "---  ------                     --------------   -----  \n",
      " 0   Store                      333241 non-null  float64\n",
      " 1   DayOfWeek                  333241 non-null  float64\n",
      " 2   Promo                      333241 non-null  float64\n",
      " 3   SchoolHoliday              333241 non-null  float64\n",
      " 4   CompetitionDistance        333241 non-null  float64\n",
      " 5   CompetitionOpenSinceMonth  333241 non-null  float64\n",
      " 6   CompetitionOpenSinceYear   333241 non-null  float64\n",
      " 7   Promo2                     333241 non-null  int64  \n",
      " 8   Promo2SinceWeek            333241 non-null  float64\n",
      " 9   Promo2SinceYear            333241 non-null  float64\n",
      " 10  PromoInterval              333241 non-null  object \n",
      " 11  StateHoliday_0             333241 non-null  uint8  \n",
      " 12  StateHoliday_51088         333241 non-null  uint8  \n",
      " 13  StateHoliday_a             333241 non-null  uint8  \n",
      " 14  StateHoliday_b             333241 non-null  uint8  \n",
      " 15  StateHoliday_c             333241 non-null  uint8  \n",
      " 16  StoreType_a                333241 non-null  uint8  \n",
      " 17  StoreType_b                333241 non-null  uint8  \n",
      " 18  StoreType_c                333241 non-null  uint8  \n",
      " 19  StoreType_d                333241 non-null  uint8  \n",
      " 20  Assortment_a               333241 non-null  uint8  \n",
      " 21  Assortment_b               333241 non-null  uint8  \n",
      " 22  Assortment_c               333241 non-null  uint8  \n",
      "dtypes: float64(9), int64(1), object(1), uint8(12)\n",
      "memory usage: 34.3+ MB\n"
     ]
    }
   ],
   "source": [
    "X_train.info()"
   ]
  }
 ],
 "metadata": {
  "kernelspec": {
   "display_name": "Python 3",
   "language": "python",
   "name": "python3"
  },
  "language_info": {
   "codemirror_mode": {
    "name": "ipython",
    "version": 3
   },
   "file_extension": ".py",
   "mimetype": "text/x-python",
   "name": "python",
   "nbconvert_exporter": "python",
   "pygments_lexer": "ipython3",
   "version": "3.7.6"
  }
 },
 "nbformat": 4,
 "nbformat_minor": 5
}

{
 "cells": [
  {
   "cell_type": "markdown",
   "id": "647e3c5c",
   "metadata": {},
   "source": [
    "# predicting Rossman sale\n"
   ]
  },
  {
   "cell_type": "code",
   "execution_count": 1,
   "id": "6d292e04",
   "metadata": {},
   "outputs": [],
   "source": [
    "import pandas as pd\n",
    "import numpy as np\n",
    "from sklearn.model_selection import train_test_split\n",
    "from sklearn.preprocessing import  OneHotEncoder"
   ]
  },
  {
   "cell_type": "code",
   "execution_count": 2,
   "id": "d7fcb408",
   "metadata": {},
   "outputs": [],
   "source": [
    "def metric(preds, actuals):\n",
    "    preds = preds.reshape(-1)\n",
    "    actuals = actuals.reshape(-1)\n",
    "    assert preds.shape == actuals.shape\n",
    "    return 100 * np.linalg.norm((actuals - preds) / actuals) / np.sqrt(preds.shape[0])"
   ]
  },
  {
   "cell_type": "code",
   "execution_count": 3,
   "id": "a8bb2e89",
   "metadata": {},
   "outputs": [
    {
     "name": "stderr",
     "output_type": "stream",
     "text": [
      "C:\\Users\\mhnaj\\anaconda3\\lib\\site-packages\\IPython\\core\\interactiveshell.py:3166: DtypeWarning: Columns (7) have mixed types.Specify dtype option on import or set low_memory=False.\n",
      "  interactivity=interactivity, compiler=compiler, result=result)\n"
     ]
    }
   ],
   "source": [
    "train = pd.read_csv(\"data/train.csv\")\n",
    "store = pd.read_csv(\"data/store.csv\") "
   ]
  },
  {
   "cell_type": "markdown",
   "id": "bcd87fac",
   "metadata": {},
   "source": [
    "### Data exploration"
   ]
  },
  {
   "cell_type": "code",
   "execution_count": 4,
   "id": "595ed796",
   "metadata": {
    "scrolled": false
   },
   "outputs": [
    {
     "name": "stdout",
     "output_type": "stream",
     "text": [
      "<class 'pandas.core.frame.DataFrame'>\n",
      "RangeIndex: 637774 entries, 0 to 637773\n",
      "Data columns (total 9 columns):\n",
      " #   Column         Non-Null Count   Dtype  \n",
      "---  ------         --------------   -----  \n",
      " 0   Date           637774 non-null  object \n",
      " 1   Store          618473 non-null  float64\n",
      " 2   DayOfWeek      618757 non-null  float64\n",
      " 3   Sales          618747 non-null  float64\n",
      " 4   Customers      618683 non-null  float64\n",
      " 5   Open           618588 non-null  float64\n",
      " 6   Promo          618580 non-null  float64\n",
      " 7   StateHoliday   618520 non-null  object \n",
      " 8   SchoolHoliday  618437 non-null  float64\n",
      "dtypes: float64(7), object(2)\n",
      "memory usage: 43.8+ MB\n"
     ]
    }
   ],
   "source": [
    "train.info()"
   ]
  },
  {
   "cell_type": "code",
   "execution_count": 5,
   "id": "41066a18",
   "metadata": {
    "scrolled": true
   },
   "outputs": [
    {
     "name": "stdout",
     "output_type": "stream",
     "text": [
      "<class 'pandas.core.frame.DataFrame'>\n",
      "RangeIndex: 1115 entries, 0 to 1114\n",
      "Data columns (total 10 columns):\n",
      " #   Column                     Non-Null Count  Dtype  \n",
      "---  ------                     --------------  -----  \n",
      " 0   Store                      1115 non-null   int64  \n",
      " 1   StoreType                  1115 non-null   object \n",
      " 2   Assortment                 1115 non-null   object \n",
      " 3   CompetitionDistance        1112 non-null   float64\n",
      " 4   CompetitionOpenSinceMonth  761 non-null    float64\n",
      " 5   CompetitionOpenSinceYear   761 non-null    float64\n",
      " 6   Promo2                     1115 non-null   int64  \n",
      " 7   Promo2SinceWeek            571 non-null    float64\n",
      " 8   Promo2SinceYear            571 non-null    float64\n",
      " 9   PromoInterval              571 non-null    object \n",
      "dtypes: float64(5), int64(2), object(3)\n",
      "memory usage: 87.2+ KB\n"
     ]
    }
   ],
   "source": [
    "store.info()"
   ]
  },
  {
   "cell_type": "markdown",
   "id": "0fa44c0b",
   "metadata": {},
   "source": [
    "### Missing value in Store.csv"
   ]
  },
  {
   "cell_type": "code",
   "execution_count": 6,
   "id": "77c1c2dc",
   "metadata": {},
   "outputs": [],
   "source": [
    "train['Date'] = pd.to_datetime(train['Date'])"
   ]
  },
  {
   "cell_type": "code",
   "execution_count": 7,
   "id": "9ef562cd",
   "metadata": {
    "scrolled": true
   },
   "outputs": [
    {
     "name": "stdout",
     "output_type": "stream",
     "text": [
      "<class 'pandas.core.frame.DataFrame'>\n",
      "RangeIndex: 1115 entries, 0 to 1114\n",
      "Data columns (total 10 columns):\n",
      " #   Column                     Non-Null Count  Dtype  \n",
      "---  ------                     --------------  -----  \n",
      " 0   Store                      1115 non-null   int64  \n",
      " 1   StoreType                  1115 non-null   object \n",
      " 2   Assortment                 1115 non-null   object \n",
      " 3   CompetitionDistance        1115 non-null   float64\n",
      " 4   CompetitionOpenSinceMonth  1115 non-null   float64\n",
      " 5   CompetitionOpenSinceYear   1115 non-null   float64\n",
      " 6   Promo2                     1115 non-null   int64  \n",
      " 7   Promo2SinceWeek            1115 non-null   float64\n",
      " 8   Promo2SinceYear            1115 non-null   float64\n",
      " 9   PromoInterval              1115 non-null   object \n",
      "dtypes: float64(5), int64(2), object(3)\n",
      "memory usage: 87.2+ KB\n"
     ]
    }
   ],
   "source": [
    "def fillna_mean(df,columns):\n",
    "    for col in columns:\n",
    "        mean_value = int(df[col].mean())\n",
    "        df.loc[:,col].fillna(value=mean_value,inplace=True)\n",
    "    return df\n",
    "\n",
    "def fillna_most(df,columns):\n",
    "    for col in columns:\n",
    "        most_value = df[col].value_counts().idxmax()\n",
    "        df.loc[:,col].fillna(value=most_value,inplace=True)\n",
    "    return df\n",
    "columns_mean = ['CompetitionOpenSinceMonth',\n",
    "                'CompetitionOpenSinceYear',\n",
    "                'CompetitionDistance',\n",
    "                'Promo2SinceWeek',\n",
    "                'Promo2SinceYear'\n",
    "                 ] \n",
    "\n",
    "store = fillna_mean(store,columns_mean)\n",
    "\n",
    "columns_most = ['PromoInterval']\n",
    "stor = fillna_most(store,columns_most)\n",
    "\n",
    "\n",
    "store.info()"
   ]
  },
  {
   "cell_type": "markdown",
   "id": "eaafdd7e",
   "metadata": {},
   "source": [
    "Drop rows that has no sales (zero or null value)"
   ]
  },
  {
   "cell_type": "code",
   "execution_count": 8,
   "id": "442b5a8d",
   "metadata": {},
   "outputs": [],
   "source": [
    "train.dropna(subset=['Sales'],inplace=True)\n",
    "train.drop(columns=['Customers'],inplace=True)\n",
    "train.dropna(subset=['Store'],inplace=True) \n",
    "\n",
    "train= train[train['Sales']>0]"
   ]
  },
  {
   "cell_type": "markdown",
   "id": "f16e8f08",
   "metadata": {},
   "source": [
    "### Missing value in train.csv\n"
   ]
  },
  {
   "cell_type": "code",
   "execution_count": 9,
   "id": "bb087f1a",
   "metadata": {
    "scrolled": true
   },
   "outputs": [
    {
     "name": "stdout",
     "output_type": "stream",
     "text": [
      "<class 'pandas.core.frame.DataFrame'>\n",
      "Int64Index: 497376 entries, 27 to 637773\n",
      "Data columns (total 8 columns):\n",
      " #   Column         Non-Null Count   Dtype         \n",
      "---  ------         --------------   -----         \n",
      " 0   Date           497376 non-null  datetime64[ns]\n",
      " 1   Store          497376 non-null  float64       \n",
      " 2   DayOfWeek      497376 non-null  float64       \n",
      " 3   Sales          497376 non-null  float64       \n",
      " 4   Open           482366 non-null  float64       \n",
      " 5   Promo          497376 non-null  float64       \n",
      " 6   StateHoliday   497376 non-null  object        \n",
      " 7   SchoolHoliday  497376 non-null  float64       \n",
      "dtypes: datetime64[ns](1), float64(6), object(1)\n",
      "memory usage: 34.2+ MB\n"
     ]
    }
   ],
   "source": [
    "columns_mean = ['DayOfWeek']\n",
    "train = fillna_mean(train,columns_mean)\n",
    "\n",
    "columns_most = ['Promo','SchoolHoliday','StateHoliday']\n",
    "train = fillna_most(train,columns_most)\n",
    "\n",
    "train.info()"
   ]
  },
  {
   "cell_type": "markdown",
   "id": "bacc0fa1",
   "metadata": {},
   "source": [
    "Merge 'train' and 'store' together"
   ]
  },
  {
   "cell_type": "code",
   "execution_count": 10,
   "id": "336e44a0",
   "metadata": {},
   "outputs": [],
   "source": [
    "train_full = pd.merge(train,store, on='Store', how='inner')"
   ]
  },
  {
   "cell_type": "code",
   "execution_count": 11,
   "id": "ec890c52",
   "metadata": {
    "scrolled": false
   },
   "outputs": [
    {
     "name": "stdout",
     "output_type": "stream",
     "text": [
      "<class 'pandas.core.frame.DataFrame'>\n",
      "Int64Index: 497376 entries, 0 to 497375\n",
      "Data columns (total 17 columns):\n",
      " #   Column                     Non-Null Count   Dtype         \n",
      "---  ------                     --------------   -----         \n",
      " 0   Date                       497376 non-null  datetime64[ns]\n",
      " 1   Store                      497376 non-null  float64       \n",
      " 2   DayOfWeek                  497376 non-null  float64       \n",
      " 3   Sales                      497376 non-null  float64       \n",
      " 4   Open                       482366 non-null  float64       \n",
      " 5   Promo                      497376 non-null  float64       \n",
      " 6   StateHoliday               497376 non-null  object        \n",
      " 7   SchoolHoliday              497376 non-null  float64       \n",
      " 8   StoreType                  497376 non-null  object        \n",
      " 9   Assortment                 497376 non-null  object        \n",
      " 10  CompetitionDistance        497376 non-null  float64       \n",
      " 11  CompetitionOpenSinceMonth  497376 non-null  float64       \n",
      " 12  CompetitionOpenSinceYear   497376 non-null  float64       \n",
      " 13  Promo2                     497376 non-null  int64         \n",
      " 14  Promo2SinceWeek            497376 non-null  float64       \n",
      " 15  Promo2SinceYear            497376 non-null  float64       \n",
      " 16  PromoInterval              497376 non-null  object        \n",
      "dtypes: datetime64[ns](1), float64(11), int64(1), object(4)\n",
      "memory usage: 68.3+ MB\n"
     ]
    }
   ],
   "source": [
    "train_full.info()"
   ]
  },
  {
   "cell_type": "markdown",
   "id": "ad4d8c7b",
   "metadata": {},
   "source": [
    "### Data Cleaning\n"
   ]
  },
  {
   "cell_type": "code",
   "execution_count": 12,
   "id": "d98dd2a3",
   "metadata": {
    "scrolled": true
   },
   "outputs": [
    {
     "data": {
      "text/plain": [
       "1.0    482366\n",
       "Name: Open, dtype: int64"
      ]
     },
     "execution_count": 12,
     "metadata": {},
     "output_type": "execute_result"
    }
   ],
   "source": [
    "train_full['Open'].value_counts()"
   ]
  },
  {
   "cell_type": "code",
   "execution_count": 13,
   "id": "0bcc3b48",
   "metadata": {},
   "outputs": [],
   "source": [
    "train_full.drop(columns=['Open'],inplace=True)"
   ]
  },
  {
   "cell_type": "code",
   "execution_count": 14,
   "id": "cb29a1e5",
   "metadata": {
    "scrolled": false
   },
   "outputs": [
    {
     "data": {
      "text/plain": [
       "0      445761\n",
       "0.0     51088\n",
       "a         401\n",
       "b          91\n",
       "c          35\n",
       "Name: StateHoliday, dtype: int64"
      ]
     },
     "execution_count": 14,
     "metadata": {},
     "output_type": "execute_result"
    }
   ],
   "source": [
    "train_full['StateHoliday'].value_counts()"
   ]
  },
  {
   "cell_type": "code",
   "execution_count": 15,
   "id": "bcd8580e",
   "metadata": {},
   "outputs": [
    {
     "data": {
      "text/plain": [
       "0    496849\n",
       "a       401\n",
       "b        91\n",
       "c        35\n",
       "Name: StateHoliday, dtype: int64"
      ]
     },
     "execution_count": 15,
     "metadata": {},
     "output_type": "execute_result"
    }
   ],
   "source": [
    "train_full.loc[train_full['StateHoliday']==0,'StateHoliday']=0\n",
    "train_full.loc[train_full['StateHoliday']=='0','StateHoliday']=0\n",
    "\n",
    "train_full['StateHoliday'].value_counts()"
   ]
  },
  {
   "cell_type": "markdown",
   "id": "2d949f1e",
   "metadata": {},
   "source": [
    "### Define new feutures"
   ]
  },
  {
   "cell_type": "code",
   "execution_count": 16,
   "id": "96ded12b",
   "metadata": {},
   "outputs": [],
   "source": [
    "train_full['CompetitionOpen'] = 12*(train_full.loc[:,'Date'].dt.year.max()-train_full.loc[:,'CompetitionOpenSinceYear'])-train_full.loc[:,'CompetitionOpenSinceMonth']\n",
    "    \n",
    "train_full['Promo2Open'] = 52*(train_full.loc[:,'Date'].dt.year.max()-train_full.loc[:,'Promo2SinceYear'])-train_full.loc[:,'Promo2SinceWeek']"
   ]
  },
  {
   "cell_type": "code",
   "execution_count": 17,
   "id": "c72c4fb0",
   "metadata": {},
   "outputs": [],
   "source": [
    "freq = train_full.groupby('Store').size()/len(train_full)\n",
    "train_full.loc[:,'Store_freq'] = train_full.loc[:,'Store'].map(freq)"
   ]
  },
  {
   "cell_type": "markdown",
   "id": "5b1888b3",
   "metadata": {},
   "source": [
    "### Dealing with categorical data"
   ]
  },
  {
   "cell_type": "code",
   "execution_count": 18,
   "id": "973042a6",
   "metadata": {},
   "outputs": [],
   "source": [
    "def get_dummies(df,columns):\n",
    "    for col in columns:\n",
    "        if col in df.columns:\n",
    "            df = pd.get_dummies(df, columns = [col])\n",
    "    return df\n",
    "\n",
    "train_full = get_dummies(train_full,['StateHoliday','StoreType','Assortment','PromoInterval'])"
   ]
  },
  {
   "cell_type": "code",
   "execution_count": 19,
   "id": "d0027413",
   "metadata": {},
   "outputs": [
    {
     "data": {
      "text/html": [
       "<div>\n",
       "<style scoped>\n",
       "    .dataframe tbody tr th:only-of-type {\n",
       "        vertical-align: middle;\n",
       "    }\n",
       "\n",
       "    .dataframe tbody tr th {\n",
       "        vertical-align: top;\n",
       "    }\n",
       "\n",
       "    .dataframe thead th {\n",
       "        text-align: right;\n",
       "    }\n",
       "</style>\n",
       "<table border=\"1\" class=\"dataframe\">\n",
       "  <thead>\n",
       "    <tr style=\"text-align: right;\">\n",
       "      <th></th>\n",
       "      <th>Date</th>\n",
       "      <th>Store</th>\n",
       "      <th>DayOfWeek</th>\n",
       "      <th>Sales</th>\n",
       "      <th>Promo</th>\n",
       "      <th>SchoolHoliday</th>\n",
       "      <th>CompetitionDistance</th>\n",
       "      <th>CompetitionOpenSinceMonth</th>\n",
       "      <th>CompetitionOpenSinceYear</th>\n",
       "      <th>Promo2</th>\n",
       "      <th>...</th>\n",
       "      <th>StoreType_a</th>\n",
       "      <th>StoreType_b</th>\n",
       "      <th>StoreType_c</th>\n",
       "      <th>StoreType_d</th>\n",
       "      <th>Assortment_a</th>\n",
       "      <th>Assortment_b</th>\n",
       "      <th>Assortment_c</th>\n",
       "      <th>PromoInterval_Feb,May,Aug,Nov</th>\n",
       "      <th>PromoInterval_Jan,Apr,Jul,Oct</th>\n",
       "      <th>PromoInterval_Mar,Jun,Sept,Dec</th>\n",
       "    </tr>\n",
       "  </thead>\n",
       "  <tbody>\n",
       "    <tr>\n",
       "      <th>0</th>\n",
       "      <td>2013-01-01</td>\n",
       "      <td>353.0</td>\n",
       "      <td>2.0</td>\n",
       "      <td>3139.0</td>\n",
       "      <td>0.0</td>\n",
       "      <td>1.0</td>\n",
       "      <td>900.0</td>\n",
       "      <td>7.0</td>\n",
       "      <td>2008.0</td>\n",
       "      <td>1</td>\n",
       "      <td>...</td>\n",
       "      <td>0</td>\n",
       "      <td>1</td>\n",
       "      <td>0</td>\n",
       "      <td>0</td>\n",
       "      <td>0</td>\n",
       "      <td>1</td>\n",
       "      <td>0</td>\n",
       "      <td>1</td>\n",
       "      <td>0</td>\n",
       "      <td>0</td>\n",
       "    </tr>\n",
       "    <tr>\n",
       "      <th>1</th>\n",
       "      <td>2013-01-02</td>\n",
       "      <td>353.0</td>\n",
       "      <td>3.0</td>\n",
       "      <td>2686.0</td>\n",
       "      <td>0.0</td>\n",
       "      <td>1.0</td>\n",
       "      <td>900.0</td>\n",
       "      <td>7.0</td>\n",
       "      <td>2008.0</td>\n",
       "      <td>1</td>\n",
       "      <td>...</td>\n",
       "      <td>0</td>\n",
       "      <td>1</td>\n",
       "      <td>0</td>\n",
       "      <td>0</td>\n",
       "      <td>0</td>\n",
       "      <td>1</td>\n",
       "      <td>0</td>\n",
       "      <td>1</td>\n",
       "      <td>0</td>\n",
       "      <td>0</td>\n",
       "    </tr>\n",
       "    <tr>\n",
       "      <th>2</th>\n",
       "      <td>2013-01-03</td>\n",
       "      <td>353.0</td>\n",
       "      <td>4.0</td>\n",
       "      <td>2628.0</td>\n",
       "      <td>0.0</td>\n",
       "      <td>1.0</td>\n",
       "      <td>900.0</td>\n",
       "      <td>7.0</td>\n",
       "      <td>2008.0</td>\n",
       "      <td>1</td>\n",
       "      <td>...</td>\n",
       "      <td>0</td>\n",
       "      <td>1</td>\n",
       "      <td>0</td>\n",
       "      <td>0</td>\n",
       "      <td>0</td>\n",
       "      <td>1</td>\n",
       "      <td>0</td>\n",
       "      <td>1</td>\n",
       "      <td>0</td>\n",
       "      <td>0</td>\n",
       "    </tr>\n",
       "    <tr>\n",
       "      <th>3</th>\n",
       "      <td>2013-01-04</td>\n",
       "      <td>353.0</td>\n",
       "      <td>5.0</td>\n",
       "      <td>2677.0</td>\n",
       "      <td>0.0</td>\n",
       "      <td>1.0</td>\n",
       "      <td>900.0</td>\n",
       "      <td>7.0</td>\n",
       "      <td>2008.0</td>\n",
       "      <td>1</td>\n",
       "      <td>...</td>\n",
       "      <td>0</td>\n",
       "      <td>1</td>\n",
       "      <td>0</td>\n",
       "      <td>0</td>\n",
       "      <td>0</td>\n",
       "      <td>1</td>\n",
       "      <td>0</td>\n",
       "      <td>1</td>\n",
       "      <td>0</td>\n",
       "      <td>0</td>\n",
       "    </tr>\n",
       "    <tr>\n",
       "      <th>4</th>\n",
       "      <td>2013-01-05</td>\n",
       "      <td>353.0</td>\n",
       "      <td>6.0</td>\n",
       "      <td>2224.0</td>\n",
       "      <td>0.0</td>\n",
       "      <td>0.0</td>\n",
       "      <td>900.0</td>\n",
       "      <td>7.0</td>\n",
       "      <td>2008.0</td>\n",
       "      <td>1</td>\n",
       "      <td>...</td>\n",
       "      <td>0</td>\n",
       "      <td>1</td>\n",
       "      <td>0</td>\n",
       "      <td>0</td>\n",
       "      <td>0</td>\n",
       "      <td>1</td>\n",
       "      <td>0</td>\n",
       "      <td>1</td>\n",
       "      <td>0</td>\n",
       "      <td>0</td>\n",
       "    </tr>\n",
       "    <tr>\n",
       "      <th>...</th>\n",
       "      <td>...</td>\n",
       "      <td>...</td>\n",
       "      <td>...</td>\n",
       "      <td>...</td>\n",
       "      <td>...</td>\n",
       "      <td>...</td>\n",
       "      <td>...</td>\n",
       "      <td>...</td>\n",
       "      <td>...</td>\n",
       "      <td>...</td>\n",
       "      <td>...</td>\n",
       "      <td>...</td>\n",
       "      <td>...</td>\n",
       "      <td>...</td>\n",
       "      <td>...</td>\n",
       "      <td>...</td>\n",
       "      <td>...</td>\n",
       "      <td>...</td>\n",
       "      <td>...</td>\n",
       "      <td>...</td>\n",
       "      <td>...</td>\n",
       "    </tr>\n",
       "    <tr>\n",
       "      <th>497371</th>\n",
       "      <td>2014-07-27</td>\n",
       "      <td>1081.0</td>\n",
       "      <td>7.0</td>\n",
       "      <td>4974.0</td>\n",
       "      <td>0.0</td>\n",
       "      <td>0.0</td>\n",
       "      <td>400.0</td>\n",
       "      <td>3.0</td>\n",
       "      <td>2006.0</td>\n",
       "      <td>0</td>\n",
       "      <td>...</td>\n",
       "      <td>0</td>\n",
       "      <td>1</td>\n",
       "      <td>0</td>\n",
       "      <td>0</td>\n",
       "      <td>1</td>\n",
       "      <td>0</td>\n",
       "      <td>0</td>\n",
       "      <td>0</td>\n",
       "      <td>1</td>\n",
       "      <td>0</td>\n",
       "    </tr>\n",
       "    <tr>\n",
       "      <th>497372</th>\n",
       "      <td>2014-07-28</td>\n",
       "      <td>1081.0</td>\n",
       "      <td>1.0</td>\n",
       "      <td>7900.0</td>\n",
       "      <td>1.0</td>\n",
       "      <td>1.0</td>\n",
       "      <td>400.0</td>\n",
       "      <td>3.0</td>\n",
       "      <td>2006.0</td>\n",
       "      <td>0</td>\n",
       "      <td>...</td>\n",
       "      <td>0</td>\n",
       "      <td>1</td>\n",
       "      <td>0</td>\n",
       "      <td>0</td>\n",
       "      <td>1</td>\n",
       "      <td>0</td>\n",
       "      <td>0</td>\n",
       "      <td>0</td>\n",
       "      <td>1</td>\n",
       "      <td>0</td>\n",
       "    </tr>\n",
       "    <tr>\n",
       "      <th>497373</th>\n",
       "      <td>2014-07-29</td>\n",
       "      <td>1081.0</td>\n",
       "      <td>2.0</td>\n",
       "      <td>7563.0</td>\n",
       "      <td>1.0</td>\n",
       "      <td>1.0</td>\n",
       "      <td>400.0</td>\n",
       "      <td>3.0</td>\n",
       "      <td>2006.0</td>\n",
       "      <td>0</td>\n",
       "      <td>...</td>\n",
       "      <td>0</td>\n",
       "      <td>1</td>\n",
       "      <td>0</td>\n",
       "      <td>0</td>\n",
       "      <td>1</td>\n",
       "      <td>0</td>\n",
       "      <td>0</td>\n",
       "      <td>0</td>\n",
       "      <td>1</td>\n",
       "      <td>0</td>\n",
       "    </tr>\n",
       "    <tr>\n",
       "      <th>497374</th>\n",
       "      <td>2014-07-30</td>\n",
       "      <td>1081.0</td>\n",
       "      <td>3.0</td>\n",
       "      <td>6514.0</td>\n",
       "      <td>1.0</td>\n",
       "      <td>1.0</td>\n",
       "      <td>400.0</td>\n",
       "      <td>3.0</td>\n",
       "      <td>2006.0</td>\n",
       "      <td>0</td>\n",
       "      <td>...</td>\n",
       "      <td>0</td>\n",
       "      <td>1</td>\n",
       "      <td>0</td>\n",
       "      <td>0</td>\n",
       "      <td>1</td>\n",
       "      <td>0</td>\n",
       "      <td>0</td>\n",
       "      <td>0</td>\n",
       "      <td>1</td>\n",
       "      <td>0</td>\n",
       "    </tr>\n",
       "    <tr>\n",
       "      <th>497375</th>\n",
       "      <td>2014-07-31</td>\n",
       "      <td>1081.0</td>\n",
       "      <td>4.0</td>\n",
       "      <td>6895.0</td>\n",
       "      <td>1.0</td>\n",
       "      <td>1.0</td>\n",
       "      <td>400.0</td>\n",
       "      <td>3.0</td>\n",
       "      <td>2006.0</td>\n",
       "      <td>0</td>\n",
       "      <td>...</td>\n",
       "      <td>0</td>\n",
       "      <td>1</td>\n",
       "      <td>0</td>\n",
       "      <td>0</td>\n",
       "      <td>1</td>\n",
       "      <td>0</td>\n",
       "      <td>0</td>\n",
       "      <td>0</td>\n",
       "      <td>1</td>\n",
       "      <td>0</td>\n",
       "    </tr>\n",
       "  </tbody>\n",
       "</table>\n",
       "<p>497376 rows × 29 columns</p>\n",
       "</div>"
      ],
      "text/plain": [
       "             Date   Store  DayOfWeek   Sales  Promo  SchoolHoliday  \\\n",
       "0      2013-01-01   353.0        2.0  3139.0    0.0            1.0   \n",
       "1      2013-01-02   353.0        3.0  2686.0    0.0            1.0   \n",
       "2      2013-01-03   353.0        4.0  2628.0    0.0            1.0   \n",
       "3      2013-01-04   353.0        5.0  2677.0    0.0            1.0   \n",
       "4      2013-01-05   353.0        6.0  2224.0    0.0            0.0   \n",
       "...           ...     ...        ...     ...    ...            ...   \n",
       "497371 2014-07-27  1081.0        7.0  4974.0    0.0            0.0   \n",
       "497372 2014-07-28  1081.0        1.0  7900.0    1.0            1.0   \n",
       "497373 2014-07-29  1081.0        2.0  7563.0    1.0            1.0   \n",
       "497374 2014-07-30  1081.0        3.0  6514.0    1.0            1.0   \n",
       "497375 2014-07-31  1081.0        4.0  6895.0    1.0            1.0   \n",
       "\n",
       "        CompetitionDistance  CompetitionOpenSinceMonth  \\\n",
       "0                     900.0                        7.0   \n",
       "1                     900.0                        7.0   \n",
       "2                     900.0                        7.0   \n",
       "3                     900.0                        7.0   \n",
       "4                     900.0                        7.0   \n",
       "...                     ...                        ...   \n",
       "497371                400.0                        3.0   \n",
       "497372                400.0                        3.0   \n",
       "497373                400.0                        3.0   \n",
       "497374                400.0                        3.0   \n",
       "497375                400.0                        3.0   \n",
       "\n",
       "        CompetitionOpenSinceYear  Promo2  ...  StoreType_a  StoreType_b  \\\n",
       "0                         2008.0       1  ...            0            1   \n",
       "1                         2008.0       1  ...            0            1   \n",
       "2                         2008.0       1  ...            0            1   \n",
       "3                         2008.0       1  ...            0            1   \n",
       "4                         2008.0       1  ...            0            1   \n",
       "...                          ...     ...  ...          ...          ...   \n",
       "497371                    2006.0       0  ...            0            1   \n",
       "497372                    2006.0       0  ...            0            1   \n",
       "497373                    2006.0       0  ...            0            1   \n",
       "497374                    2006.0       0  ...            0            1   \n",
       "497375                    2006.0       0  ...            0            1   \n",
       "\n",
       "        StoreType_c  StoreType_d  Assortment_a  Assortment_b  Assortment_c  \\\n",
       "0                 0            0             0             1             0   \n",
       "1                 0            0             0             1             0   \n",
       "2                 0            0             0             1             0   \n",
       "3                 0            0             0             1             0   \n",
       "4                 0            0             0             1             0   \n",
       "...             ...          ...           ...           ...           ...   \n",
       "497371            0            0             1             0             0   \n",
       "497372            0            0             1             0             0   \n",
       "497373            0            0             1             0             0   \n",
       "497374            0            0             1             0             0   \n",
       "497375            0            0             1             0             0   \n",
       "\n",
       "        PromoInterval_Feb,May,Aug,Nov  PromoInterval_Jan,Apr,Jul,Oct  \\\n",
       "0                                   1                              0   \n",
       "1                                   1                              0   \n",
       "2                                   1                              0   \n",
       "3                                   1                              0   \n",
       "4                                   1                              0   \n",
       "...                               ...                            ...   \n",
       "497371                              0                              1   \n",
       "497372                              0                              1   \n",
       "497373                              0                              1   \n",
       "497374                              0                              1   \n",
       "497375                              0                              1   \n",
       "\n",
       "        PromoInterval_Mar,Jun,Sept,Dec  \n",
       "0                                    0  \n",
       "1                                    0  \n",
       "2                                    0  \n",
       "3                                    0  \n",
       "4                                    0  \n",
       "...                                ...  \n",
       "497371                               0  \n",
       "497372                               0  \n",
       "497373                               0  \n",
       "497374                               0  \n",
       "497375                               0  \n",
       "\n",
       "[497376 rows x 29 columns]"
      ]
     },
     "execution_count": 19,
     "metadata": {},
     "output_type": "execute_result"
    }
   ],
   "source": [
    "train_full"
   ]
  },
  {
   "cell_type": "code",
   "execution_count": 20,
   "id": "c3c3e3de",
   "metadata": {},
   "outputs": [
    {
     "data": {
      "text/html": [
       "<div>\n",
       "<style scoped>\n",
       "    .dataframe tbody tr th:only-of-type {\n",
       "        vertical-align: middle;\n",
       "    }\n",
       "\n",
       "    .dataframe tbody tr th {\n",
       "        vertical-align: top;\n",
       "    }\n",
       "\n",
       "    .dataframe thead th {\n",
       "        text-align: right;\n",
       "    }\n",
       "</style>\n",
       "<table border=\"1\" class=\"dataframe\">\n",
       "  <thead>\n",
       "    <tr style=\"text-align: right;\">\n",
       "      <th></th>\n",
       "      <th>Date</th>\n",
       "      <th>Store</th>\n",
       "      <th>DayOfWeek</th>\n",
       "      <th>Sales</th>\n",
       "      <th>Promo</th>\n",
       "      <th>SchoolHoliday</th>\n",
       "      <th>CompetitionDistance</th>\n",
       "      <th>CompetitionOpenSinceMonth</th>\n",
       "      <th>CompetitionOpenSinceYear</th>\n",
       "      <th>Promo2</th>\n",
       "      <th>...</th>\n",
       "      <th>StoreType_a</th>\n",
       "      <th>StoreType_b</th>\n",
       "      <th>StoreType_c</th>\n",
       "      <th>StoreType_d</th>\n",
       "      <th>Assortment_a</th>\n",
       "      <th>Assortment_b</th>\n",
       "      <th>Assortment_c</th>\n",
       "      <th>PromoInterval_Feb,May,Aug,Nov</th>\n",
       "      <th>PromoInterval_Jan,Apr,Jul,Oct</th>\n",
       "      <th>PromoInterval_Mar,Jun,Sept,Dec</th>\n",
       "    </tr>\n",
       "  </thead>\n",
       "  <tbody>\n",
       "    <tr>\n",
       "      <th>0</th>\n",
       "      <td>2013-01-01</td>\n",
       "      <td>353.0</td>\n",
       "      <td>2.0</td>\n",
       "      <td>3139.0</td>\n",
       "      <td>0.0</td>\n",
       "      <td>1.0</td>\n",
       "      <td>900.0</td>\n",
       "      <td>7.0</td>\n",
       "      <td>2008.0</td>\n",
       "      <td>1</td>\n",
       "      <td>...</td>\n",
       "      <td>0</td>\n",
       "      <td>1</td>\n",
       "      <td>0</td>\n",
       "      <td>0</td>\n",
       "      <td>0</td>\n",
       "      <td>1</td>\n",
       "      <td>0</td>\n",
       "      <td>1</td>\n",
       "      <td>0</td>\n",
       "      <td>0</td>\n",
       "    </tr>\n",
       "    <tr>\n",
       "      <th>1</th>\n",
       "      <td>2013-01-02</td>\n",
       "      <td>353.0</td>\n",
       "      <td>3.0</td>\n",
       "      <td>2686.0</td>\n",
       "      <td>0.0</td>\n",
       "      <td>1.0</td>\n",
       "      <td>900.0</td>\n",
       "      <td>7.0</td>\n",
       "      <td>2008.0</td>\n",
       "      <td>1</td>\n",
       "      <td>...</td>\n",
       "      <td>0</td>\n",
       "      <td>1</td>\n",
       "      <td>0</td>\n",
       "      <td>0</td>\n",
       "      <td>0</td>\n",
       "      <td>1</td>\n",
       "      <td>0</td>\n",
       "      <td>1</td>\n",
       "      <td>0</td>\n",
       "      <td>0</td>\n",
       "    </tr>\n",
       "    <tr>\n",
       "      <th>2</th>\n",
       "      <td>2013-01-03</td>\n",
       "      <td>353.0</td>\n",
       "      <td>4.0</td>\n",
       "      <td>2628.0</td>\n",
       "      <td>0.0</td>\n",
       "      <td>1.0</td>\n",
       "      <td>900.0</td>\n",
       "      <td>7.0</td>\n",
       "      <td>2008.0</td>\n",
       "      <td>1</td>\n",
       "      <td>...</td>\n",
       "      <td>0</td>\n",
       "      <td>1</td>\n",
       "      <td>0</td>\n",
       "      <td>0</td>\n",
       "      <td>0</td>\n",
       "      <td>1</td>\n",
       "      <td>0</td>\n",
       "      <td>1</td>\n",
       "      <td>0</td>\n",
       "      <td>0</td>\n",
       "    </tr>\n",
       "    <tr>\n",
       "      <th>3</th>\n",
       "      <td>2013-01-04</td>\n",
       "      <td>353.0</td>\n",
       "      <td>5.0</td>\n",
       "      <td>2677.0</td>\n",
       "      <td>0.0</td>\n",
       "      <td>1.0</td>\n",
       "      <td>900.0</td>\n",
       "      <td>7.0</td>\n",
       "      <td>2008.0</td>\n",
       "      <td>1</td>\n",
       "      <td>...</td>\n",
       "      <td>0</td>\n",
       "      <td>1</td>\n",
       "      <td>0</td>\n",
       "      <td>0</td>\n",
       "      <td>0</td>\n",
       "      <td>1</td>\n",
       "      <td>0</td>\n",
       "      <td>1</td>\n",
       "      <td>0</td>\n",
       "      <td>0</td>\n",
       "    </tr>\n",
       "    <tr>\n",
       "      <th>4</th>\n",
       "      <td>2013-01-05</td>\n",
       "      <td>353.0</td>\n",
       "      <td>6.0</td>\n",
       "      <td>2224.0</td>\n",
       "      <td>0.0</td>\n",
       "      <td>0.0</td>\n",
       "      <td>900.0</td>\n",
       "      <td>7.0</td>\n",
       "      <td>2008.0</td>\n",
       "      <td>1</td>\n",
       "      <td>...</td>\n",
       "      <td>0</td>\n",
       "      <td>1</td>\n",
       "      <td>0</td>\n",
       "      <td>0</td>\n",
       "      <td>0</td>\n",
       "      <td>1</td>\n",
       "      <td>0</td>\n",
       "      <td>1</td>\n",
       "      <td>0</td>\n",
       "      <td>0</td>\n",
       "    </tr>\n",
       "  </tbody>\n",
       "</table>\n",
       "<p>5 rows × 29 columns</p>\n",
       "</div>"
      ],
      "text/plain": [
       "        Date  Store  DayOfWeek   Sales  Promo  SchoolHoliday  \\\n",
       "0 2013-01-01  353.0        2.0  3139.0    0.0            1.0   \n",
       "1 2013-01-02  353.0        3.0  2686.0    0.0            1.0   \n",
       "2 2013-01-03  353.0        4.0  2628.0    0.0            1.0   \n",
       "3 2013-01-04  353.0        5.0  2677.0    0.0            1.0   \n",
       "4 2013-01-05  353.0        6.0  2224.0    0.0            0.0   \n",
       "\n",
       "   CompetitionDistance  CompetitionOpenSinceMonth  CompetitionOpenSinceYear  \\\n",
       "0                900.0                        7.0                    2008.0   \n",
       "1                900.0                        7.0                    2008.0   \n",
       "2                900.0                        7.0                    2008.0   \n",
       "3                900.0                        7.0                    2008.0   \n",
       "4                900.0                        7.0                    2008.0   \n",
       "\n",
       "   Promo2  ...  StoreType_a  StoreType_b  StoreType_c  StoreType_d  \\\n",
       "0       1  ...            0            1            0            0   \n",
       "1       1  ...            0            1            0            0   \n",
       "2       1  ...            0            1            0            0   \n",
       "3       1  ...            0            1            0            0   \n",
       "4       1  ...            0            1            0            0   \n",
       "\n",
       "   Assortment_a  Assortment_b  Assortment_c  PromoInterval_Feb,May,Aug,Nov  \\\n",
       "0             0             1             0                              1   \n",
       "1             0             1             0                              1   \n",
       "2             0             1             0                              1   \n",
       "3             0             1             0                              1   \n",
       "4             0             1             0                              1   \n",
       "\n",
       "   PromoInterval_Jan,Apr,Jul,Oct  PromoInterval_Mar,Jun,Sept,Dec  \n",
       "0                              0                               0  \n",
       "1                              0                               0  \n",
       "2                              0                               0  \n",
       "3                              0                               0  \n",
       "4                              0                               0  \n",
       "\n",
       "[5 rows x 29 columns]"
      ]
     },
     "execution_count": 20,
     "metadata": {},
     "output_type": "execute_result"
    }
   ],
   "source": [
    "train_full.head()"
   ]
  },
  {
   "cell_type": "markdown",
   "id": "df843910",
   "metadata": {},
   "source": [
    "### Split Data: Train and Test"
   ]
  },
  {
   "cell_type": "code",
   "execution_count": 21,
   "id": "f560fceb",
   "metadata": {},
   "outputs": [],
   "source": [
    "X = train_full.drop(columns=['Sales','Date','Store','CompetitionOpenSinceYear','CompetitionOpenSinceMonth','Promo2SinceYear','Promo2SinceWeek'])\n",
    "y = train_full['Sales']"
   ]
  },
  {
   "cell_type": "code",
   "execution_count": 22,
   "id": "98336212",
   "metadata": {},
   "outputs": [],
   "source": [
    "X_train, X_test, y_train, y_test = train_test_split(\n",
    "                                                    X, y, test_size=0.33)"
   ]
  },
  {
   "cell_type": "markdown",
   "id": "f5188216",
   "metadata": {},
   "source": [
    "### Models:"
   ]
  },
  {
   "cell_type": "markdown",
   "id": "c7a76de0",
   "metadata": {},
   "source": [
    "### Random Forest"
   ]
  },
  {
   "cell_type": "code",
   "execution_count": 24,
   "id": "a764ac47",
   "metadata": {},
   "outputs": [],
   "source": [
    "from sklearn.ensemble import RandomForestRegressor \n",
    "rf = RandomForestRegressor(max_depth=30)\n",
    "rf.fit(X_train, y_train)\n",
    "predictions = rf.predict(X_test)\n"
   ]
  },
  {
   "cell_type": "code",
   "execution_count": 25,
   "id": "4df55d0d",
   "metadata": {},
   "outputs": [],
   "source": [
    "rf_rmspe = metric(predictions,y_test.to_numpy())"
   ]
  },
  {
   "cell_type": "code",
   "execution_count": 26,
   "id": "7845d694",
   "metadata": {},
   "outputs": [
    {
     "data": {
      "text/plain": [
       "19.190889248625627"
      ]
     },
     "execution_count": 26,
     "metadata": {},
     "output_type": "execute_result"
    }
   ],
   "source": [
    "rf_rmspe"
   ]
  },
  {
   "cell_type": "code",
   "execution_count": null,
   "id": "91fa9228",
   "metadata": {},
   "outputs": [],
   "source": [
    "from sklearn.model_selection import GridSearchCV\n",
    "# Create the parameter grid based on the results of random search \n",
    "param_grid = {\n",
    "    'bootstrap': [True],\n",
    "    'max_depth': [30, 50, 80],\n",
    "    'max_features': [3, 5,7],\n",
    "    'min_samples_leaf': [3, 4, 5],\n",
    "    'min_samples_split': [8, 10, 12],\n",
    "    'n_estimators': [100, 200, 500]\n",
    "}\n",
    "# Create a based model\n",
    "rf = RandomForestRegressor()\n",
    "# Instantiate the grid search model\n",
    "grid_search = GridSearchCV(estimator = rf, param_grid = param_grid, \n",
    "                          cv = 3, n_jobs = -1, verbose = 2)\n",
    "\n",
    "# Fit the grid search to the data\n",
    "grid_search.fit(X_train, y_train)\n"
   ]
  },
  {
   "cell_type": "code",
   "execution_count": null,
   "id": "eaa7f635",
   "metadata": {},
   "outputs": [],
   "source": [
    "grid_search.best_estimator_"
   ]
  },
  {
   "cell_type": "code",
   "execution_count": null,
   "id": "6020722f",
   "metadata": {},
   "outputs": [],
   "source": [
    "\n",
    "best_grid = grid_search.best_estimator_\n",
    "predictions = best_grid.predict(X_test)\n",
    "\n",
    "rf_rmspe = metric(predictions,y_test.to_numpy())"
   ]
  }
 ],
 "metadata": {
  "kernelspec": {
   "display_name": "Python 3",
   "language": "python",
   "name": "python3"
  },
  "language_info": {
   "codemirror_mode": {
    "name": "ipython",
    "version": 3
   },
   "file_extension": ".py",
   "mimetype": "text/x-python",
   "name": "python",
   "nbconvert_exporter": "python",
   "pygments_lexer": "ipython3",
   "version": "3.7.6"
  }
 },
 "nbformat": 4,
 "nbformat_minor": 5
}
